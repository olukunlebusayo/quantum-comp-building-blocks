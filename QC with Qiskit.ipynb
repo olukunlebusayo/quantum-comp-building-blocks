{
 "cells": [
  {
   "cell_type": "markdown",
   "metadata": {},
   "source": [
    "### This is my first personal quantum computing project.\n",
    "\n",
    "The goal is to create a quantum computer and measure its output.\n",
    "\n",
    "The output will be tested on both classical computer (simulated locally), and real quantum device (IBM QC)\n",
    "\n",
    "Have fun!!!"
   ]
  },
  {
   "cell_type": "code",
   "execution_count": 1,
   "metadata": {},
   "outputs": [],
   "source": [
    "#load qiskit library\n",
    "\n",
    "import qiskit"
   ]
  },
  {
   "cell_type": "code",
   "execution_count": 2,
   "metadata": {},
   "outputs": [
    {
     "data": {
      "text/plain": [
       "{'qiskit-terra': '0.9.0',\n",
       " 'qiskit-ignis': '0.2.0',\n",
       " 'qiskit-aqua': '0.6.0',\n",
       " 'qiskit': '0.12.1',\n",
       " 'qiskit-aer': '0.3.0',\n",
       " 'qiskit-ibmq-provider': '0.3.3'}"
      ]
     },
     "execution_count": 2,
     "metadata": {},
     "output_type": "execute_result"
    }
   ],
   "source": [
    "#check qiskit version\n",
    "\n",
    "qiskit.__qiskit_version__"
   ]
  },
  {
   "cell_type": "code",
   "execution_count": 3,
   "metadata": {},
   "outputs": [],
   "source": [
    "#import IBMQ from qiskit library\n",
    "\n",
    "from qiskit import IBMQ"
   ]
  },
  {
   "cell_type": "code",
   "execution_count": 4,
   "metadata": {},
   "outputs": [
    {
     "name": "stderr",
     "output_type": "stream",
     "text": [
      "/anaconda3/lib/python3.7/site-packages/qiskit/providers/ibmq/credentials/configrc.py:130: UserWarning: Credentials already present. Set overwrite=True to overwrite.\n",
      "  warnings.warn('Credentials already present. '\n"
     ]
    }
   ],
   "source": [
    "#go to IBM Q Experience (https://quantum-computing.ibm.com/) to create account and get API\n",
    "IBMQ.save_account('IBMQ API goes here')"
   ]
  },
  {
   "cell_type": "code",
   "execution_count": 5,
   "metadata": {},
   "outputs": [
    {
     "data": {
      "text/plain": [
       "<AccountProvider for IBMQ(hub='ibm-q', group='open', project='main')>"
      ]
     },
     "execution_count": 5,
     "metadata": {},
     "output_type": "execute_result"
    }
   ],
   "source": [
    "#load account to see what access you have\n",
    "IBMQ.load_account()"
   ]
  },
  {
   "cell_type": "code",
   "execution_count": 6,
   "metadata": {},
   "outputs": [],
   "source": [
    "#real project starts here.\n",
    "\n",
    "from qiskit import *"
   ]
  },
  {
   "cell_type": "code",
   "execution_count": 7,
   "metadata": {},
   "outputs": [],
   "source": [
    "#creating a quantum register with 2 qubits\n",
    "\n",
    "qr = QuantumRegister(2) #quantum register"
   ]
  },
  {
   "cell_type": "code",
   "execution_count": 8,
   "metadata": {},
   "outputs": [],
   "source": [
    "#creating a classical register with 2 classical bits\n",
    "\n",
    "cr = ClassicalRegister(2) #classical register"
   ]
  },
  {
   "cell_type": "code",
   "execution_count": 9,
   "metadata": {},
   "outputs": [],
   "source": [
    "#build a circuit using the two quantum and classical registers\n",
    "\n",
    "circuit = QuantumCircuit(qr, cr)"
   ]
  },
  {
   "cell_type": "code",
   "execution_count": 10,
   "metadata": {},
   "outputs": [
    {
     "data": {
      "text/html": [
       "<pre style=\"word-wrap: normal;white-space: pre;background: #fff0;line-height: 1.1;font-family: &quot;Courier New&quot;,Courier,monospace\">         \n",
       "q0_0: |0>\n",
       "         \n",
       "q0_1: |0>\n",
       "         \n",
       " c0_0: 0 \n",
       "         \n",
       " c0_1: 0 \n",
       "         </pre>"
      ],
      "text/plain": [
       "<qiskit.visualization.text.TextDrawing at 0x1a222fe668>"
      ]
     },
     "execution_count": 10,
     "metadata": {},
     "output_type": "execute_result"
    }
   ],
   "source": [
    "#draw the circuit to see what it looks like\n",
    "\n",
    "%matplotlib inline #this lets the drawing show in the notebook\n",
    "\n",
    "circuit.draw()"
   ]
  },
  {
   "cell_type": "code",
   "execution_count": 11,
   "metadata": {},
   "outputs": [
    {
     "data": {
      "text/plain": [
       "<qiskit.circuit.instructionset.InstructionSet at 0x1a22349710>"
      ]
     },
     "execution_count": 11,
     "metadata": {},
     "output_type": "execute_result"
    }
   ],
   "source": [
    "#this circuit is not interesting because there's no gates.\n",
    "#apply Hadamard gate on the first qubit to create entanglement\n",
    "\n",
    "circuit.h(qr[0])"
   ]
  },
  {
   "cell_type": "code",
   "execution_count": 12,
   "metadata": {},
   "outputs": [
    {
     "data": {
      "image/png": "[encoded data removed]",
      "text/plain": [
       "<Figure size 227.556x204.68 with 1 Axes>"
      ]
     },
     "execution_count": 12,
     "metadata": {},
     "output_type": "execute_result"
    }
   ],
   "source": [
    "circuit.draw(output='mpl') #create a real drawing rather than just text"
   ]
  },
  {
   "cell_type": "code",
   "execution_count": 14,
   "metadata": {},
   "outputs": [
    {
     "data": {
      "text/plain": [
       "<qiskit.circuit.instructionset.InstructionSet at 0x1a22d2dda0>"
      ]
     },
     "execution_count": 14,
     "metadata": {},
     "output_type": "execute_result"
    }
   ],
   "source": [
    "#create two qubit operations on the Hadamard gate called controlled X\n",
    "\n",
    "#the two qubit operations is going to be like the if-operation i.e. if 'this', then 'that'\n",
    "\n",
    "circuit.cx(qr[0], qr[1]) #the control is the first qubit and the target is the second target"
   ]
  },
  {
   "cell_type": "code",
   "execution_count": 15,
   "metadata": {},
   "outputs": [
    {
     "data": {
      "image/png": "[encoded data removed]",
      "text/plain": [
       "<Figure size 287.756x204.68 with 1 Axes>"
      ]
     },
     "execution_count": 15,
     "metadata": {},
     "output_type": "execute_result"
    }
   ],
   "source": [
    "circuit.draw(output='mpl')"
   ]
  },
  {
   "cell_type": "code",
   "execution_count": 17,
   "metadata": {},
   "outputs": [
    {
     "data": {
      "text/plain": [
       "<qiskit.circuit.instructionset.InstructionSet at 0x1a22c31c50>"
      ]
     },
     "execution_count": 17,
     "metadata": {},
     "output_type": "execute_result"
    }
   ],
   "source": [
    "#next is to measure our qubit operations and store the result in the classical bits\n",
    "\n",
    "circuit.measure(qr, cr)"
   ]
  },
  {
   "cell_type": "code",
   "execution_count": 18,
   "metadata": {},
   "outputs": [
    {
     "data": {
      "image/png": "[encoded data removed]",
      "text/plain": [
       "<Figure size 408.156x204.68 with 1 Axes>"
      ]
     },
     "execution_count": 18,
     "metadata": {},
     "output_type": "execute_result"
    }
   ],
   "source": [
    "circuit.draw(output='mpl')"
   ]
  },
  {
   "cell_type": "code",
   "execution_count": 19,
   "metadata": {},
   "outputs": [],
   "source": [
    "#now to do two things:\n",
    "\n",
    "#1. run the quantum circuit on classical computer and see what happens when quantum computer is simulated\n",
    "#2. send the quantum circuit to IBM to see what the output looks like on a real device\n",
    "\n",
    "#to simulate the circuit on a local computer, use the aer component of qiskit\n",
    "\n",
    "#QASM comes from quantum assembly language\n",
    "\n",
    "simulator = Aer.get_backend('qasm_simulator')"
   ]
  },
  {
   "cell_type": "code",
   "execution_count": 27,
   "metadata": {},
   "outputs": [],
   "source": [
    "result = execute(circuit, backend = simulator).result() #execute the quantum circuit and store the result in a variable"
   ]
  },
  {
   "cell_type": "code",
   "execution_count": 28,
   "metadata": {},
   "outputs": [],
   "source": [
    "#what's the result of the execution\n",
    "\n",
    "from qiskit.tools.visualization import plot_histogram"
   ]
  },
  {
   "cell_type": "code",
   "execution_count": 29,
   "metadata": {},
   "outputs": [
    {
     "data": {
      "image/png": "[encoded data removed]",
      "text/plain": [
       "<Figure size 504x360 with 1 Axes>"
      ]
     },
     "execution_count": 29,
     "metadata": {},
     "output_type": "execute_result"
    }
   ],
   "source": [
    "plot_histogram(result.get_counts(circuit))"
   ]
  },
  {
   "cell_type": "code",
   "execution_count": 31,
   "metadata": {},
   "outputs": [],
   "source": [
    "#to run the cct on IBM device, load account which has already been loaded above\n",
    "\n",
    "provider = IBMQ.get_provider(hub = 'ibm-q')"
   ]
  },
  {
   "cell_type": "code",
   "execution_count": 33,
   "metadata": {},
   "outputs": [
    {
     "name": "stdout",
     "output_type": "stream",
     "text": [
      "ibmq_vigo\n"
     ]
    }
   ],
   "source": [
    "#to find the least busy backend device\n",
    "\n",
    "num_qubits = 2\n",
    "\n",
    "from qiskit.providers.ibmq import least_busy\n",
    "possible_devices = provider.backends(filters=lambda x: \n",
    "                                     x.configuration().n_qubits >= num_qubits\n",
    "                                       and \n",
    "                                     x.configuration().simulator == False)\n",
    "qcomp = least_busy(possible_devices)\n",
    "print(qcomp)"
   ]
  },
  {
   "cell_type": "code",
   "execution_count": 36,
   "metadata": {},
   "outputs": [],
   "source": [
    "qcomp = provider.get_backend('ibmq_vigo')"
   ]
  },
  {
   "cell_type": "code",
   "execution_count": 37,
   "metadata": {},
   "outputs": [],
   "source": [
    "job = execute(circuit, backend=qcomp)"
   ]
  },
  {
   "cell_type": "code",
   "execution_count": 38,
   "metadata": {},
   "outputs": [],
   "source": [
    "from qiskit.tools.monitor import job_monitor"
   ]
  },
  {
   "cell_type": "code",
   "execution_count": 39,
   "metadata": {},
   "outputs": [
    {
     "name": "stdout",
     "output_type": "stream",
     "text": [
      "Job Status: job has successfully run\n"
     ]
    }
   ],
   "source": [
    "job_monitor(job)"
   ]
  },
  {
   "cell_type": "code",
   "execution_count": 40,
   "metadata": {},
   "outputs": [],
   "source": [
    "result = job.result()"
   ]
  },
  {
   "cell_type": "code",
   "execution_count": 41,
   "metadata": {},
   "outputs": [
    {
     "data": {
      "image/png": "[encoded data removed]",
      "text/plain": [
       "<Figure size 504x360 with 1 Axes>"
      ]
     },
     "execution_count": 41,
     "metadata": {},
     "output_type": "execute_result"
    }
   ],
   "source": [
    "plot_histogram(result.get_counts(circuit))"
   ]
  },
  {
   "cell_type": "code",
   "execution_count": 42,
   "metadata": {},
   "outputs": [],
   "source": [
    "from qiskit.tools.monitor import backend_overview"
   ]
  },
  {
   "cell_type": "code",
   "execution_count": 43,
   "metadata": {},
   "outputs": [
    {
     "name": "stdout",
     "output_type": "stream",
     "text": [
      "ibmq_ourense                 ibmq_vigo                    ibmq_16_melbourne\n",
      "------------                 ---------                    -----------------\n",
      "Num. Qubits:  5              Num. Qubits:  5              Num. Qubits:  14\n",
      "Pending Jobs: 28             Pending Jobs: 2              Pending Jobs: 25\n",
      "Least busy:   False          Least busy:   True           Least busy:   False\n",
      "Operational:  True           Operational:  True           Operational:  True\n",
      "Avg. T1:      80.7           Avg. T1:      105.3          Avg. T1:      49.8\n",
      "Avg. T2:      64.8           Avg. T2:      71.2           Avg. T2:      68.7\n",
      "\n",
      "\n",
      "\n",
      "ibmqx2\n",
      "------\n",
      "Num. Qubits:  5\n",
      "Pending Jobs: 66\n",
      "Least busy:   False\n",
      "Operational:  True\n",
      "Avg. T1:      57.5\n",
      "Avg. T2:      40.4\n",
      "\n",
      "\n",
      "\n"
     ]
    }
   ],
   "source": [
    "backend_overview()"
   ]
  },
  {
   "cell_type": "code",
   "execution_count": null,
   "metadata": {},
   "outputs": [],
   "source": []
  }
 ],
 "metadata": {
  "kernelspec": {
   "display_name": "Python 3",
   "language": "python",
   "name": "python3"
  },
  "language_info": {
   "codemirror_mode": {
    "name": "ipython",
    "version": 3
   },
   "file_extension": ".py",
   "mimetype": "text/x-python",
   "name": "python",
   "nbconvert_exporter": "python",
   "pygments_lexer": "ipython3",
   "version": "3.7.3"
  }
 },
 "nbformat": 4,
 "nbformat_minor": 2
}
